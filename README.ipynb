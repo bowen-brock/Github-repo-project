{
 "cells": [
  {
   "cell_type": "markdown",
   "id": "e9ecb16a",
   "metadata": {},
   "source": [
    "#### Group Project By: Deangelo Bowen & Kayla Brock | Codeup | July 25, 2022"
   ]
  },
  {
   "cell_type": "markdown",
   "id": "2829ae91",
   "metadata": {},
   "source": [
    "# A Bite Out Of Apple"
   ]
  },
  {
   "cell_type": "markdown",
   "id": "b9c157dc",
   "metadata": {},
   "source": [
    "#### A project using classification and natural language processing to predict repository programming language."
   ]
  },
  {
   "cell_type": "markdown",
   "id": "160af135",
   "metadata": {},
   "source": [
    "<hr style=\"border-top: 1px groove LightCyan ; margin-top: 1px; margin-bottom: 1px\"></hr>"
   ]
  },
  {
   "cell_type": "markdown",
   "id": "5a7157ab",
   "metadata": {},
   "source": [
    "# I. Project Overview & EXECUTIVE SUMMARY"
   ]
  },
  {
   "cell_type": "markdown",
   "id": "ffa5c08a",
   "metadata": {},
   "source": [
    "<hr style=\"border-top: 1px groove LightCyan ; margin-top: 1px; margin-bottom: 1px\"></hr>"
   ]
  },
  {
   "cell_type": "markdown",
   "id": "decc4978",
   "metadata": {},
   "source": [
    "#### _Project Goal_"
   ]
  },
  {
   "cell_type": "markdown",
   "id": "f66d2e68",
   "metadata": {},
   "source": [
    "The goal of this project is to build a model that can accurately predict the programming language of a repository using its' README file.   "
   ]
  },
  {
   "cell_type": "markdown",
   "id": "e7700a21",
   "metadata": {},
   "source": [
    "#### _Description_"
   ]
  },
  {
   "cell_type": "markdown",
   "id": "d02b3cb4",
   "metadata": {},
   "source": [
    "This project was designed to reinforce the web scraping and natural language processing skills taught at Codeup. The prompt for the project required us to: scrape a minimum of 100 readme files from Github, prepare the data, evaluate it using natural language processing techniques, and build a model that could successfully predict the repository's programming language. We chose to scrape approximately 490 repositories. After data cleaning and preparation, our total count left was 463 repositories. Before moving into exploration, we decided to further drop data languages that had less than 20 repositories. Finally we explored the data using NLP techniques and created three classification models. Please refer to the final notebook in this repository to see our final results! "
   ]
  },
  {
   "cell_type": "markdown",
   "id": "dedcc36c",
   "metadata": {},
   "source": [
    "#### _Initial Thoughts & Hypotheses_"
   ]
  },
  {
   "cell_type": "markdown",
   "id": "1e497b84",
   "metadata": {},
   "source": [
    "- We believed, because we isolated the subject \"Apple\", our bigrams and trigrams could have more topic related keywords\n",
    "- We believed, because there is no standard for the creation of readme files, the content of the README files would be more subjective to the writer and therefore more challenging to predict the programming language\n"
   ]
  },
  {
   "cell_type": "markdown",
   "id": "aa95d548",
   "metadata": {},
   "source": [
    "#### _Key Findings_"
   ]
  },
  {
   "cell_type": "markdown",
   "id": "b709c6c3",
   "metadata": {},
   "source": [
    "After scraping GitHub repositories  using the search engine filtering for the keyword 'Apple', we discovered the most frequent keywords used across 22 different programming languages. We then created a model designed around the top 6 most used languages in our sample data that could predict the use of those languages based on their keywords and features with 53% accuracy. "
   ]
  },
  {
   "cell_type": "markdown",
   "id": "c940bfc7",
   "metadata": {},
   "source": [
    "We do believe that with more time and more sample data, we could create a more accurate model with properly conducted feature engineering. "
   ]
  },
  {
   "cell_type": "markdown",
   "id": "ab3ed534",
   "metadata": {},
   "source": [
    "#### _Deliverables_"
   ]
  },
  {
   "cell_type": "markdown",
   "id": "c753015f",
   "metadata": {},
   "source": [
    "- Indepth analysis on the NLP. \n",
    "- Summary of exploration and key takeaways. \n",
    "- Creating model(s) that can accurately predict the programming language used in a repository based on the READMe content."
   ]
  },
  {
   "cell_type": "markdown",
   "id": "d78f66f1",
   "metadata": {},
   "source": [
    "# II. Project Data"
   ]
  },
  {
   "cell_type": "markdown",
   "id": "ca83cae6",
   "metadata": {},
   "source": [
    "<hr style=\"border-top: 1px groove LightCyan ; margin-top: 1px; margin-bottom: 1px\"></hr>"
   ]
  },
  {
   "cell_type": "markdown",
   "id": "b95cd44c",
   "metadata": {},
   "source": [
    "The final DataFrame used to explore the data for this project contains the following variables (columns). The variables, along with their data types, are defined below: "
   ]
  },
  {
   "cell_type": "code",
   "execution_count": 2,
   "id": "a33190f6",
   "metadata": {},
   "outputs": [],
   "source": [
    "from collections import OrderedDict\n",
    "import pandas as pd\n",
    "features = OrderedDict([ ('feature', ['repo', 'language', 'original', 'lemmatized']), ('description', ['GitHub repository name', 'Programming Language', 'Original Text before Cleaning/Preparation', 'Text after Cleaning/Preparation'])])                           \n",
    "\n",
    "df = pd.DataFrame.from_dict(features)"
   ]
  },
  {
   "cell_type": "code",
   "execution_count": 3,
   "id": "a119c260",
   "metadata": {},
   "outputs": [
    {
     "data": {
      "text/html": [
       "<div>\n",
       "<style scoped>\n",
       "    .dataframe tbody tr th:only-of-type {\n",
       "        vertical-align: middle;\n",
       "    }\n",
       "\n",
       "    .dataframe tbody tr th {\n",
       "        vertical-align: top;\n",
       "    }\n",
       "\n",
       "    .dataframe thead th {\n",
       "        text-align: right;\n",
       "    }\n",
       "</style>\n",
       "<table border=\"1\" class=\"dataframe\">\n",
       "  <thead>\n",
       "    <tr style=\"text-align: right;\">\n",
       "      <th></th>\n",
       "      <th>feature</th>\n",
       "      <th>description</th>\n",
       "    </tr>\n",
       "  </thead>\n",
       "  <tbody>\n",
       "    <tr>\n",
       "      <th>0</th>\n",
       "      <td>repo</td>\n",
       "      <td>GitHub repository name</td>\n",
       "    </tr>\n",
       "    <tr>\n",
       "      <th>1</th>\n",
       "      <td>language</td>\n",
       "      <td>Programming Language</td>\n",
       "    </tr>\n",
       "    <tr>\n",
       "      <th>2</th>\n",
       "      <td>original</td>\n",
       "      <td>Original Text before Cleaning/Preparation</td>\n",
       "    </tr>\n",
       "    <tr>\n",
       "      <th>3</th>\n",
       "      <td>lemmatized</td>\n",
       "      <td>Text after Cleaning/Preparation</td>\n",
       "    </tr>\n",
       "  </tbody>\n",
       "</table>\n",
       "</div>"
      ],
      "text/plain": [
       "      feature                                description\n",
       "0        repo                     GitHub repository name\n",
       "1    language                       Programming Language\n",
       "2    original  Original Text before Cleaning/Preparation\n",
       "3  lemmatized            Text after Cleaning/Preparation"
      ]
     },
     "execution_count": 3,
     "metadata": {},
     "output_type": "execute_result"
    }
   ],
   "source": [
    "df"
   ]
  },
  {
   "cell_type": "markdown",
   "id": "838e6e18",
   "metadata": {},
   "source": [
    "# III. Project PLAN"
   ]
  },
  {
   "cell_type": "markdown",
   "id": "b9173106",
   "metadata": {},
   "source": [
    "<hr style=\"border-top: 1px groove LightCyan ; margin-top: 1px; margin-bottom: 1px\"></hr>"
   ]
  },
  {
   "cell_type": "markdown",
   "id": "bb6846a0",
   "metadata": {},
   "source": [
    "#### The following outlines the process taken through the data science pipeline to complete this project"
   ]
  },
  {
   "cell_type": "markdown",
   "id": "6c72d416",
   "metadata": {},
   "source": [
    "#### _Plan_"
   ]
  },
  {
   "cell_type": "markdown",
   "id": "6266a727",
   "metadata": {},
   "source": [
    "In the planning stage We: read project expectations, created a project outline, wrote a project goal to include how we would measure success or failure, reviewed the overview of the dataset, documented all initial thoughts, questions, and hypotheses, created a plan for completing the project, created a data dictionary to define features, created a local folder and github repository."
   ]
  },
  {
   "cell_type": "markdown",
   "id": "d38140e2",
   "metadata": {},
   "source": [
    "#### _Acquire_"
   ]
  },
  {
   "cell_type": "markdown",
   "id": "38c81d7a",
   "metadata": {},
   "source": [
    "In the acquire stage we: created a .gitignore, searched for Apple repositories on GitHub and implemented a function that could go through each repository and return the README content."
   ]
  },
  {
   "cell_type": "markdown",
   "id": "e3d9cf99",
   "metadata": {},
   "source": [
    "#### _Prepare_"
   ]
  },
  {
   "cell_type": "markdown",
   "id": "b5ffc2e2",
   "metadata": {},
   "source": [
    "In the Prepare stage we: \n",
    "- Started with 490 values\n",
    "    - dropped null-identified languages\n",
    "    - Removed small sample sized languages identified such as, AppleScript, TypeScript, GO, HTML, CSS, etc.\n",
    "    - tokenized then lemmatized the readme samples\n",
    "    - removed stopwords, which involved appending `new_stopwords` for words we identified as irrelevant in the prediction of programming language (such as the excessive use of 'com' and 'www')."
   ]
  },
  {
   "cell_type": "markdown",
   "id": "4ed40461",
   "metadata": {},
   "source": [
    "#### _Explore_"
   ]
  },
  {
   "cell_type": "markdown",
   "id": "db1507ce",
   "metadata": {},
   "source": [
    "Before Exploration We: \n",
    "- Identified our top 6 languages, which were the languages that were used the most frequent based on our search. \n",
    "- These languages were `Swift`, `JavaScript`, `Objective-C`, `Python`,`Java`, and `C`.\n",
    "- created trigrams for each languages most used words\n",
    "- Represented them each in a word cloud to and bar graph to discover what the most frequent languages were. "
   ]
  },
  {
   "cell_type": "markdown",
   "id": "4c5e08f7",
   "metadata": {},
   "source": [
    "Through Exploration we were able to identify the most frequent words per programming language: \n",
    "- Swift\n",
    "`Style`, `IMG` , `Shield IO`, and `SRV & SVC`\n",
    "- JavaScript\n",
    "`Open Source` , `Freeware` , `Software`\n",
    "- Objective-C\n",
    "`HTML`, `Audio`, `Video` , `Integration`, `Graphic & Animation`\n",
    "- Python\n",
    "`Python language was very case specific as none of the words defined pythonic language`\n",
    "- Java\n",
    "`APP`, `SVG`, `REACT`, `Shield IO`\n",
    "- C\n",
    "`Series`, `Trackpad`,`SRC`,`DRV`"
   ]
  },
  {
   "cell_type": "markdown",
   "id": "18fbd7e7",
   "metadata": {},
   "source": [
    "Additional note about exploration: Throughout exploration we noticed that many 'frequent words' had more to do with the common theme of the repositories 'Apple' rather than the programming language itself. "
   ]
  },
  {
   "cell_type": "markdown",
   "id": "e43b1c33",
   "metadata": {},
   "source": [
    "#### Model & Evaluate "
   ]
  },
  {
   "cell_type": "markdown",
   "id": "710b5e65",
   "metadata": {},
   "source": [
    "In the model and evaluate stage we: established baseline accuracy, trained and fit multiple models, compared evaluation metrics across models, evaluated best performing models using validate set, tested final model on out-of-sample testing dataset, and summarized performance #### bag of words "
   ]
  },
  {
   "cell_type": "markdown",
   "id": "062b815c",
   "metadata": {},
   "source": [
    "#### _Deliver_"
   ]
  },
  {
   "cell_type": "markdown",
   "id": "d02e7c83",
   "metadata": {},
   "source": [
    "In the final stage we: prepared final notebook in Jupyter Notebook. We: wrote out the project description, introduction to include goals, created an executive summary which included all our key findings and recommendations, created headers and dividers to organize the flow of the notebook, and added summaries and supplementary markdown to guide the reader through the notebook."
   ]
  },
  {
   "cell_type": "markdown",
   "id": "5f3138e3",
   "metadata": {},
   "source": [
    "# IV. Supplementary Files "
   ]
  },
  {
   "cell_type": "markdown",
   "id": "992c106c",
   "metadata": {},
   "source": [
    "<hr style=\"border-top: 1px groove LightCyan ; margin-top: 1px; margin-bottom: 1px\"></hr>"
   ]
  },
  {
   "cell_type": "markdown",
   "id": "6ca437db",
   "metadata": {},
   "source": [
    "- acquire.py \n",
    "- explore.py \n",
    "- modeling.py \n",
    "- prepare.py "
   ]
  },
  {
   "cell_type": "markdown",
   "id": "d65971d4",
   "metadata": {},
   "source": [
    "# V. Steps to Reproduce"
   ]
  },
  {
   "cell_type": "markdown",
   "id": "b1761772",
   "metadata": {},
   "source": [
    "<hr style=\"border-top: 1px groove LightCyan ; margin-top: 1px; margin-bottom: 1px\"></hr>"
   ]
  },
  {
   "cell_type": "markdown",
   "id": "961236b6",
   "metadata": {},
   "source": [
    "- Clone this repo (including acquire.py, explore.py, prepare.py and modeling.py)\n",
    "- Run Final Report Jupyter notebook to view the final product"
   ]
  }
 ],
 "metadata": {
  "kernelspec": {
   "display_name": "Python 3 (ipykernel)",
   "language": "python",
   "name": "python3"
  },
  "language_info": {
   "codemirror_mode": {
    "name": "ipython",
    "version": 3
   },
   "file_extension": ".py",
   "mimetype": "text/x-python",
   "name": "python",
   "nbconvert_exporter": "python",
   "pygments_lexer": "ipython3",
   "version": "3.9.7"
  }
 },
 "nbformat": 4,
 "nbformat_minor": 5
}
