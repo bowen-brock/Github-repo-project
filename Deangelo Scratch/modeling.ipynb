{
 "cells": [
  {
   "cell_type": "code",
   "execution_count": 45,
   "id": "2ad5b597",
   "metadata": {},
   "outputs": [],
   "source": [
    "from pprint import pprint\n",
    "\n",
    "import pandas as pd\n",
    "import numpy as np\n",
    "\n",
    "%matplotlib inline\n",
    "import matplotlib.pyplot as plt\n",
    "\n",
    "import explore as e\n",
    "import prepare as p \n",
    "\n",
    "import nltk\n",
    "import re\n",
    "\n",
    "from sklearn.feature_extraction.text import TfidfVectorizer\n",
    "from sklearn.tree import DecisionTreeClassifier, plot_tree\n",
    "from sklearn.model_selection import train_test_split"
   ]
  },
  {
   "cell_type": "markdown",
   "id": "f593900c",
   "metadata": {},
   "source": [
    "### Original DF"
   ]
  },
  {
   "cell_type": "code",
   "execution_count": 2,
   "id": "a666ae9c",
   "metadata": {},
   "outputs": [],
   "source": [
    "df = pd.read_json('data.json')"
   ]
  },
  {
   "cell_type": "code",
   "execution_count": 3,
   "id": "f3968b53",
   "metadata": {
    "scrolled": false
   },
   "outputs": [
    {
     "data": {
      "text/html": [
       "<div>\n",
       "<style scoped>\n",
       "    .dataframe tbody tr th:only-of-type {\n",
       "        vertical-align: middle;\n",
       "    }\n",
       "\n",
       "    .dataframe tbody tr th {\n",
       "        vertical-align: top;\n",
       "    }\n",
       "\n",
       "    .dataframe thead th {\n",
       "        text-align: right;\n",
       "    }\n",
       "</style>\n",
       "<table border=\"1\" class=\"dataframe\">\n",
       "  <thead>\n",
       "    <tr style=\"text-align: right;\">\n",
       "      <th></th>\n",
       "      <th>repo</th>\n",
       "      <th>language</th>\n",
       "      <th>original</th>\n",
       "      <th>lemmatized</th>\n",
       "    </tr>\n",
       "  </thead>\n",
       "  <tbody>\n",
       "    <tr>\n",
       "      <th>0</th>\n",
       "      <td>acidanthera/AppleALC</td>\n",
       "      <td>C++</td>\n",
       "      <td>AppleALC\\n========\\n\\n[![Build Status](https:/...</td>\n",
       "      <td>applealc acidanthera applealc workflow ci badg...</td>\n",
       "    </tr>\n",
       "    <tr>\n",
       "      <th>1</th>\n",
       "      <td>gongjianhui/AppleDNS</td>\n",
       "      <td>Python</td>\n",
       "      <td># Final AppleDNS Pro\\n\\nAppleDNS 通过收集 Apple 在中...</td>\n",
       "      <td>final appledns pro appledns cdn itunes icloud ...</td>\n",
       "    </tr>\n",
       "    <tr>\n",
       "      <th>2</th>\n",
       "      <td>tomaz/appledoc</td>\n",
       "      <td>Objective-C</td>\n",
       "      <td>About appledoc\\n==============\\n\\n**IMPORTANT ...</td>\n",
       "      <td>appledoc important notice collaborator needed ...</td>\n",
       "    </tr>\n",
       "    <tr>\n",
       "      <th>3</th>\n",
       "      <td>robovm/apple-ios-samples</td>\n",
       "      <td>Objective-C</td>\n",
       "      <td># Mirror of Apple's iOS samples\\n\\nThis reposi...</td>\n",
       "      <td>mirror io sample repository mirror io sample l...</td>\n",
       "    </tr>\n",
       "    <tr>\n",
       "      <th>4</th>\n",
       "      <td>appleseedhq/appleseed</td>\n",
       "      <td>C++</td>\n",
       "      <td># appleseed [![Build Status](https://travis-ci...</td>\n",
       "      <td>appleseed travis ci appleseedhq appleseed svg ...</td>\n",
       "    </tr>\n",
       "    <tr>\n",
       "      <th>...</th>\n",
       "      <td>...</td>\n",
       "      <td>...</td>\n",
       "      <td>...</td>\n",
       "      <td>...</td>\n",
       "    </tr>\n",
       "    <tr>\n",
       "      <th>481</th>\n",
       "      <td>PatMurrayDEV/apple-music-history</td>\n",
       "      <td>JavaScript</td>\n",
       "      <td>[![Netlify Status](https://api.netlify.com/api...</td>\n",
       "      <td>netlify api netlify api v1 badge e207d990 1ee1...</td>\n",
       "    </tr>\n",
       "    <tr>\n",
       "      <th>482</th>\n",
       "      <td>antongorodezkiy/codeigniter-apns</td>\n",
       "      <td>PHP</td>\n",
       "      <td>Codeigniter-apns\\n(c) 2012, Anton Gorodezkiy\\n...</td>\n",
       "      <td>codeigniter apns c 2012 anton gorodezkiy codei...</td>\n",
       "    </tr>\n",
       "    <tr>\n",
       "      <th>484</th>\n",
       "      <td>lprhodes/homebridge-apple-tv</td>\n",
       "      <td>JavaScript</td>\n",
       "      <td># Homebridge Apple TV\\n\\n## Introduction\\nWelc...</td>\n",
       "      <td>homebridge tv welcome tv plugin homebridge nfa...</td>\n",
       "    </tr>\n",
       "    <tr>\n",
       "      <th>485</th>\n",
       "      <td>lvsti/CoreMediaIO-DAL-Example</td>\n",
       "      <td>C++</td>\n",
       "      <td># CoreMediaIO-DAL-Example\\n\\nModernized and ex...</td>\n",
       "      <td>coremediaio dal example modernized extended co...</td>\n",
       "    </tr>\n",
       "    <tr>\n",
       "      <th>489</th>\n",
       "      <td>seemoo-lab/openhaystack</td>\n",
       "      <td>Swift</td>\n",
       "      <td># PoPETs Artifact Review\\n\\nWe submit the rese...</td>\n",
       "      <td>popets artifact review submit research artifac...</td>\n",
       "    </tr>\n",
       "  </tbody>\n",
       "</table>\n",
       "<p>368 rows × 4 columns</p>\n",
       "</div>"
      ],
      "text/plain": [
       "                                 repo     language  \\\n",
       "0                acidanthera/AppleALC          C++   \n",
       "1                gongjianhui/AppleDNS       Python   \n",
       "2                      tomaz/appledoc  Objective-C   \n",
       "3            robovm/apple-ios-samples  Objective-C   \n",
       "4               appleseedhq/appleseed          C++   \n",
       "..                                ...          ...   \n",
       "481  PatMurrayDEV/apple-music-history   JavaScript   \n",
       "482  antongorodezkiy/codeigniter-apns          PHP   \n",
       "484      lprhodes/homebridge-apple-tv   JavaScript   \n",
       "485     lvsti/CoreMediaIO-DAL-Example          C++   \n",
       "489           seemoo-lab/openhaystack        Swift   \n",
       "\n",
       "                                              original  \\\n",
       "0    AppleALC\\n========\\n\\n[![Build Status](https:/...   \n",
       "1    # Final AppleDNS Pro\\n\\nAppleDNS 通过收集 Apple 在中...   \n",
       "2    About appledoc\\n==============\\n\\n**IMPORTANT ...   \n",
       "3    # Mirror of Apple's iOS samples\\n\\nThis reposi...   \n",
       "4    # appleseed [![Build Status](https://travis-ci...   \n",
       "..                                                 ...   \n",
       "481  [![Netlify Status](https://api.netlify.com/api...   \n",
       "482  Codeigniter-apns\\n(c) 2012, Anton Gorodezkiy\\n...   \n",
       "484  # Homebridge Apple TV\\n\\n## Introduction\\nWelc...   \n",
       "485  # CoreMediaIO-DAL-Example\\n\\nModernized and ex...   \n",
       "489  # PoPETs Artifact Review\\n\\nWe submit the rese...   \n",
       "\n",
       "                                            lemmatized  \n",
       "0    applealc acidanthera applealc workflow ci badg...  \n",
       "1    final appledns pro appledns cdn itunes icloud ...  \n",
       "2    appledoc important notice collaborator needed ...  \n",
       "3    mirror io sample repository mirror io sample l...  \n",
       "4    appleseed travis ci appleseedhq appleseed svg ...  \n",
       "..                                                 ...  \n",
       "481  netlify api netlify api v1 badge e207d990 1ee1...  \n",
       "482  codeigniter apns c 2012 anton gorodezkiy codei...  \n",
       "484  homebridge tv welcome tv plugin homebridge nfa...  \n",
       "485  coremediaio dal example modernized extended co...  \n",
       "489  popets artifact review submit research artifac...  \n",
       "\n",
       "[368 rows x 4 columns]"
      ]
     },
     "execution_count": 3,
     "metadata": {},
     "output_type": "execute_result"
    }
   ],
   "source": [
    "df = p.create_df(df)\n",
    "df"
   ]
  },
  {
   "cell_type": "code",
   "execution_count": 4,
   "id": "011aec67",
   "metadata": {},
   "outputs": [
    {
     "data": {
      "text/plain": [
       "Swift          76\n",
       "JavaScript     59\n",
       "Objective-C    56\n",
       "Python         45\n",
       "C              34\n",
       "Java           30\n",
       "C++            20\n",
       "Shell          19\n",
       "PHP            18\n",
       "C#             11\n",
       "Name: language, dtype: int64"
      ]
     },
     "execution_count": 4,
     "metadata": {},
     "output_type": "execute_result"
    }
   ],
   "source": [
    "df.language.value_counts()"
   ]
  },
  {
   "cell_type": "markdown",
   "id": "7ab42882",
   "metadata": {},
   "source": [
    "---"
   ]
  },
  {
   "cell_type": "markdown",
   "id": "0de03737",
   "metadata": {},
   "source": [
    "### Preparing Dataframe for modeling"
   ]
  },
  {
   "cell_type": "code",
   "execution_count": 5,
   "id": "bedef8ea",
   "metadata": {},
   "outputs": [
    {
     "data": {
      "text/plain": [
       "<368x22870 sparse matrix of type '<class 'numpy.int64'>'\n",
       "\twith 80387 stored elements in Compressed Sparse Row format>"
      ]
     },
     "execution_count": 5,
     "metadata": {},
     "output_type": "execute_result"
    }
   ],
   "source": [
    "from sklearn.feature_extraction.text import CountVectorizer\n",
    "\n",
    "cv = CountVectorizer()\n",
    "bag_of_words = cv.fit_transform(df.lemmatized)\n",
    "bag_of_words"
   ]
  },
  {
   "cell_type": "code",
   "execution_count": 6,
   "id": "1ee12eeb",
   "metadata": {},
   "outputs": [
    {
     "data": {
      "text/plain": [
       "matrix([[0, 0, 0, ..., 0, 0, 0],\n",
       "        [0, 0, 0, ..., 0, 0, 0],\n",
       "        [0, 0, 0, ..., 0, 0, 0],\n",
       "        ...,\n",
       "        [0, 0, 0, ..., 0, 0, 0],\n",
       "        [0, 0, 0, ..., 0, 0, 0],\n",
       "        [0, 0, 0, ..., 0, 0, 0]])"
      ]
     },
     "execution_count": 6,
     "metadata": {},
     "output_type": "execute_result"
    }
   ],
   "source": [
    "bag_of_words.todense()"
   ]
  },
  {
   "cell_type": "code",
   "execution_count": 7,
   "id": "30349e47",
   "metadata": {},
   "outputs": [
    {
     "data": {
      "text/html": [
       "<div>\n",
       "<style scoped>\n",
       "    .dataframe tbody tr th:only-of-type {\n",
       "        vertical-align: middle;\n",
       "    }\n",
       "\n",
       "    .dataframe tbody tr th {\n",
       "        vertical-align: top;\n",
       "    }\n",
       "\n",
       "    .dataframe thead th {\n",
       "        text-align: right;\n",
       "    }\n",
       "</style>\n",
       "<table border=\"1\" class=\"dataframe\">\n",
       "  <thead>\n",
       "    <tr style=\"text-align: right;\">\n",
       "      <th></th>\n",
       "      <th>00</th>\n",
       "      <th>000</th>\n",
       "      <th>0000</th>\n",
       "      <th>000000</th>\n",
       "      <th>00000002</th>\n",
       "      <th>000035590</th>\n",
       "      <th>0001</th>\n",
       "      <th>00010000</th>\n",
       "      <th>00040000</th>\n",
       "      <th>0008</th>\n",
       "      <th>...</th>\n",
       "      <th>zxystd</th>\n",
       "      <th>zy</th>\n",
       "      <th>zybuluo</th>\n",
       "      <th>zynaptiqs</th>\n",
       "      <th>zypper</th>\n",
       "      <th>zythum</th>\n",
       "      <th>zz20rxc</th>\n",
       "      <th>zzanehip</th>\n",
       "      <th>zzpiglet</th>\n",
       "      <th>zzzzbh</th>\n",
       "    </tr>\n",
       "  </thead>\n",
       "  <tbody>\n",
       "    <tr>\n",
       "      <th>0</th>\n",
       "      <td>0</td>\n",
       "      <td>0</td>\n",
       "      <td>0</td>\n",
       "      <td>0</td>\n",
       "      <td>0</td>\n",
       "      <td>0</td>\n",
       "      <td>0</td>\n",
       "      <td>0</td>\n",
       "      <td>0</td>\n",
       "      <td>0</td>\n",
       "      <td>...</td>\n",
       "      <td>0</td>\n",
       "      <td>0</td>\n",
       "      <td>0</td>\n",
       "      <td>0</td>\n",
       "      <td>0</td>\n",
       "      <td>0</td>\n",
       "      <td>0</td>\n",
       "      <td>0</td>\n",
       "      <td>0</td>\n",
       "      <td>0</td>\n",
       "    </tr>\n",
       "    <tr>\n",
       "      <th>1</th>\n",
       "      <td>0</td>\n",
       "      <td>0</td>\n",
       "      <td>0</td>\n",
       "      <td>0</td>\n",
       "      <td>0</td>\n",
       "      <td>0</td>\n",
       "      <td>0</td>\n",
       "      <td>0</td>\n",
       "      <td>0</td>\n",
       "      <td>0</td>\n",
       "      <td>...</td>\n",
       "      <td>0</td>\n",
       "      <td>0</td>\n",
       "      <td>0</td>\n",
       "      <td>0</td>\n",
       "      <td>0</td>\n",
       "      <td>0</td>\n",
       "      <td>0</td>\n",
       "      <td>0</td>\n",
       "      <td>0</td>\n",
       "      <td>0</td>\n",
       "    </tr>\n",
       "    <tr>\n",
       "      <th>2</th>\n",
       "      <td>0</td>\n",
       "      <td>0</td>\n",
       "      <td>0</td>\n",
       "      <td>0</td>\n",
       "      <td>0</td>\n",
       "      <td>0</td>\n",
       "      <td>0</td>\n",
       "      <td>0</td>\n",
       "      <td>0</td>\n",
       "      <td>0</td>\n",
       "      <td>...</td>\n",
       "      <td>0</td>\n",
       "      <td>0</td>\n",
       "      <td>0</td>\n",
       "      <td>0</td>\n",
       "      <td>0</td>\n",
       "      <td>0</td>\n",
       "      <td>0</td>\n",
       "      <td>0</td>\n",
       "      <td>0</td>\n",
       "      <td>0</td>\n",
       "    </tr>\n",
       "    <tr>\n",
       "      <th>3</th>\n",
       "      <td>0</td>\n",
       "      <td>0</td>\n",
       "      <td>0</td>\n",
       "      <td>0</td>\n",
       "      <td>0</td>\n",
       "      <td>0</td>\n",
       "      <td>0</td>\n",
       "      <td>0</td>\n",
       "      <td>0</td>\n",
       "      <td>0</td>\n",
       "      <td>...</td>\n",
       "      <td>0</td>\n",
       "      <td>0</td>\n",
       "      <td>0</td>\n",
       "      <td>0</td>\n",
       "      <td>0</td>\n",
       "      <td>0</td>\n",
       "      <td>0</td>\n",
       "      <td>0</td>\n",
       "      <td>0</td>\n",
       "      <td>0</td>\n",
       "    </tr>\n",
       "    <tr>\n",
       "      <th>4</th>\n",
       "      <td>0</td>\n",
       "      <td>0</td>\n",
       "      <td>0</td>\n",
       "      <td>0</td>\n",
       "      <td>0</td>\n",
       "      <td>0</td>\n",
       "      <td>0</td>\n",
       "      <td>0</td>\n",
       "      <td>0</td>\n",
       "      <td>0</td>\n",
       "      <td>...</td>\n",
       "      <td>0</td>\n",
       "      <td>0</td>\n",
       "      <td>0</td>\n",
       "      <td>0</td>\n",
       "      <td>0</td>\n",
       "      <td>0</td>\n",
       "      <td>0</td>\n",
       "      <td>0</td>\n",
       "      <td>0</td>\n",
       "      <td>0</td>\n",
       "    </tr>\n",
       "  </tbody>\n",
       "</table>\n",
       "<p>5 rows × 22870 columns</p>\n",
       "</div>"
      ],
      "text/plain": [
       "   00  000  0000  000000  00000002  000035590  0001  00010000  00040000  0008  \\\n",
       "0   0    0     0       0         0          0     0         0         0     0   \n",
       "1   0    0     0       0         0          0     0         0         0     0   \n",
       "2   0    0     0       0         0          0     0         0         0     0   \n",
       "3   0    0     0       0         0          0     0         0         0     0   \n",
       "4   0    0     0       0         0          0     0         0         0     0   \n",
       "\n",
       "   ...  zxystd  zy  zybuluo  zynaptiqs  zypper  zythum  zz20rxc  zzanehip  \\\n",
       "0  ...       0   0        0          0       0       0        0         0   \n",
       "1  ...       0   0        0          0       0       0        0         0   \n",
       "2  ...       0   0        0          0       0       0        0         0   \n",
       "3  ...       0   0        0          0       0       0        0         0   \n",
       "4  ...       0   0        0          0       0       0        0         0   \n",
       "\n",
       "   zzpiglet  zzzzbh  \n",
       "0         0       0  \n",
       "1         0       0  \n",
       "2         0       0  \n",
       "3         0       0  \n",
       "4         0       0  \n",
       "\n",
       "[5 rows x 22870 columns]"
      ]
     },
     "execution_count": 7,
     "metadata": {},
     "output_type": "execute_result"
    }
   ],
   "source": [
    "pd.DataFrame(bag_of_words.todense(), columns=cv.get_feature_names()).head()"
   ]
  },
  {
   "cell_type": "code",
   "execution_count": 8,
   "id": "72b29645",
   "metadata": {},
   "outputs": [],
   "source": [
    "rows = ['C#', 'PHP', 'Shell', 'C\\+\\+']"
   ]
  },
  {
   "cell_type": "code",
   "execution_count": 9,
   "id": "7793a6df",
   "metadata": {},
   "outputs": [],
   "source": [
    "for row in rows:\n",
    "    df = df[df[\"language\"].str.contains(row) == False]"
   ]
  },
  {
   "cell_type": "code",
   "execution_count": 10,
   "id": "65f341c4",
   "metadata": {
    "scrolled": true
   },
   "outputs": [
    {
     "data": {
      "text/plain": [
       "Swift          76\n",
       "JavaScript     59\n",
       "Objective-C    56\n",
       "Python         45\n",
       "C              34\n",
       "Java           30\n",
       "Name: language, dtype: int64"
      ]
     },
     "execution_count": 10,
     "metadata": {},
     "output_type": "execute_result"
    }
   ],
   "source": [
    "df.language.value_counts()"
   ]
  },
  {
   "cell_type": "markdown",
   "id": "299aa55d",
   "metadata": {},
   "source": [
    "---"
   ]
  },
  {
   "cell_type": "markdown",
   "id": "24eede5a",
   "metadata": {},
   "source": [
    "### Decision Tree Classifier"
   ]
  },
  {
   "cell_type": "code",
   "execution_count": 11,
   "id": "76848953",
   "metadata": {},
   "outputs": [],
   "source": [
    "cv = CountVectorizer()\n",
    "X = cv.fit_transform(df.lemmatized)\n",
    "y = df.language"
   ]
  },
  {
   "cell_type": "markdown",
   "id": "becbf5f4",
   "metadata": {},
   "source": [
    "#### Train"
   ]
  },
  {
   "cell_type": "code",
   "execution_count": 43,
   "id": "8e74de6f",
   "metadata": {},
   "outputs": [],
   "source": [
    "X_train, X_test, y_train, y_test = train_test_split(X, y,\n",
    "                                                    test_size=.20, \n",
    "                                                   random_state=123)"
   ]
  },
  {
   "cell_type": "code",
   "execution_count": 40,
   "id": "5bc7798c",
   "metadata": {
    "scrolled": true
   },
   "outputs": [
    {
     "data": {
      "text/plain": [
       "0.7"
      ]
     },
     "execution_count": 40,
     "metadata": {},
     "output_type": "execute_result"
    }
   ],
   "source": [
    "tree = DecisionTreeClassifier(max_depth=5)\n",
    "tree.fit(X_train, y_train)\n",
    "\n",
    "tree.score(X_train, y_train)"
   ]
  },
  {
   "cell_type": "code",
   "execution_count": 41,
   "id": "396bb47b",
   "metadata": {
    "scrolled": true
   },
   "outputs": [
    {
     "data": {
      "text/plain": [
       "0.7"
      ]
     },
     "execution_count": 41,
     "metadata": {},
     "output_type": "execute_result"
    }
   ],
   "source": [
    "(tree.predict(X_train) ==y_train).mean()"
   ]
  },
  {
   "cell_type": "markdown",
   "id": "2d9a655d",
   "metadata": {},
   "source": [
    "#### Test"
   ]
  },
  {
   "cell_type": "code",
   "execution_count": 42,
   "id": "6642534c",
   "metadata": {
    "scrolled": false
   },
   "outputs": [
    {
     "data": {
      "text/plain": [
       "0.6166666666666667"
      ]
     },
     "execution_count": 42,
     "metadata": {},
     "output_type": "execute_result"
    }
   ],
   "source": [
    "tree.score(X_test, y_test)"
   ]
  },
  {
   "cell_type": "markdown",
   "id": "b294575f",
   "metadata": {},
   "source": [
    "~55% Accuracy on test data"
   ]
  },
  {
   "cell_type": "markdown",
   "id": "a66e4098",
   "metadata": {},
   "source": [
    "---"
   ]
  },
  {
   "cell_type": "markdown",
   "id": "02dd0af8",
   "metadata": {},
   "source": [
    "### Random Forest"
   ]
  },
  {
   "cell_type": "code",
   "execution_count": 16,
   "id": "e1155a40",
   "metadata": {},
   "outputs": [],
   "source": [
    "from sklearn.ensemble import RandomForestClassifier\n",
    "from sklearn.metrics import classification_report\n",
    "from sklearn.metrics import confusion_matrix"
   ]
  },
  {
   "cell_type": "code",
   "execution_count": 17,
   "id": "b87c47f8",
   "metadata": {},
   "outputs": [],
   "source": [
    "X_train, X_test, y_train, y_test = train_test_split(X, y,\n",
    "                                                    test_size=.2, \n",
    "                                                   random_state=12)"
   ]
  },
  {
   "cell_type": "code",
   "execution_count": 18,
   "id": "a3323aea",
   "metadata": {},
   "outputs": [],
   "source": [
    "rf = RandomForestClassifier(max_depth=5)"
   ]
  },
  {
   "cell_type": "markdown",
   "id": "1b3acb67",
   "metadata": {},
   "source": [
    "#### Train"
   ]
  },
  {
   "cell_type": "code",
   "execution_count": 19,
   "id": "b748ae54",
   "metadata": {},
   "outputs": [
    {
     "data": {
      "text/plain": [
       "RandomForestClassifier(max_depth=5)"
      ]
     },
     "execution_count": 19,
     "metadata": {},
     "output_type": "execute_result"
    }
   ],
   "source": [
    "rf.fit(X_train, y_train)"
   ]
  },
  {
   "cell_type": "code",
   "execution_count": 20,
   "id": "888423f3",
   "metadata": {},
   "outputs": [],
   "source": [
    "y_pred = rf.predict(X_train)\n",
    "\n",
    "y_pred_proba = rf.predict_proba(X_train)"
   ]
  },
  {
   "cell_type": "code",
   "execution_count": 21,
   "id": "84d6384f",
   "metadata": {},
   "outputs": [
    {
     "name": "stdout",
     "output_type": "stream",
     "text": [
      "Accuracy of random forest classifier on training set: 0.77\n"
     ]
    }
   ],
   "source": [
    "print('Accuracy of random forest classifier on training set: {:.2f}'\n",
    "     .format(rf.score(X_train, y_train)))"
   ]
  },
  {
   "cell_type": "code",
   "execution_count": 22,
   "id": "e735df0c",
   "metadata": {},
   "outputs": [
    {
     "name": "stdout",
     "output_type": "stream",
     "text": [
      "              precision    recall  f1-score   support\n",
      "\n",
      "           C       1.00      0.62      0.77        29\n",
      "        Java       1.00      0.41      0.59        29\n",
      "  JavaScript       0.94      0.76      0.84        42\n",
      " Objective-C       0.61      0.75      0.67        44\n",
      "      Python       0.97      0.83      0.90        36\n",
      "       Swift       0.65      0.98      0.78        60\n",
      "\n",
      "    accuracy                           0.77       240\n",
      "   macro avg       0.86      0.73      0.76       240\n",
      "weighted avg       0.83      0.77      0.76       240\n",
      "\n"
     ]
    }
   ],
   "source": [
    "print(classification_report(y_train, y_pred))"
   ]
  },
  {
   "cell_type": "markdown",
   "id": "849737a7",
   "metadata": {},
   "source": [
    "#### Test"
   ]
  },
  {
   "cell_type": "code",
   "execution_count": 23,
   "id": "2e777071",
   "metadata": {},
   "outputs": [
    {
     "name": "stdout",
     "output_type": "stream",
     "text": [
      "Accuracy of random forest classifier on test set: 0.43\n"
     ]
    }
   ],
   "source": [
    "print('Accuracy of random forest classifier on test set: {:.2f}'\n",
    "     .format(rf.score(X_test, y_test)))"
   ]
  },
  {
   "cell_type": "markdown",
   "id": "fb3080a2",
   "metadata": {},
   "source": [
    "---"
   ]
  },
  {
   "cell_type": "markdown",
   "id": "8e5e3f5e",
   "metadata": {},
   "source": [
    "## KNN Model"
   ]
  },
  {
   "cell_type": "code",
   "execution_count": 24,
   "id": "e9da1783",
   "metadata": {},
   "outputs": [],
   "source": [
    "from sklearn.neighbors import KNeighborsClassifier"
   ]
  },
  {
   "cell_type": "code",
   "execution_count": 25,
   "id": "8f65900d",
   "metadata": {},
   "outputs": [],
   "source": [
    "X_train, X_test, y_train, y_test = train_test_split(X, y,\n",
    "                                                    test_size=.2, \n",
    "                                                   random_state=12)"
   ]
  },
  {
   "cell_type": "code",
   "execution_count": 26,
   "id": "b770ffe0",
   "metadata": {},
   "outputs": [],
   "source": [
    "# knn object\n",
    "# weights = ['uniform', 'density']\n",
    "knn = KNeighborsClassifier(n_neighbors=5, weights='uniform')\n"
   ]
  },
  {
   "cell_type": "code",
   "execution_count": 27,
   "id": "91838aab",
   "metadata": {},
   "outputs": [
    {
     "data": {
      "text/plain": [
       "KNeighborsClassifier()"
      ]
     },
     "execution_count": 27,
     "metadata": {},
     "output_type": "execute_result"
    }
   ],
   "source": [
    "# fit\n",
    "knn.fit(X_train, y_train)"
   ]
  },
  {
   "cell_type": "markdown",
   "id": "0a869138",
   "metadata": {},
   "source": [
    "#### Train"
   ]
  },
  {
   "cell_type": "code",
   "execution_count": 28,
   "id": "227b1580",
   "metadata": {},
   "outputs": [],
   "source": [
    "# make predictions\n",
    "y_pred = knn.predict(X_train)\n"
   ]
  },
  {
   "cell_type": "code",
   "execution_count": 29,
   "id": "9a28c72d",
   "metadata": {},
   "outputs": [],
   "source": [
    "# estimatre probas\n",
    "y_pred_proba = knn.predict_proba(X_train)"
   ]
  },
  {
   "cell_type": "code",
   "execution_count": 30,
   "id": "e16d1175",
   "metadata": {},
   "outputs": [
    {
     "name": "stdout",
     "output_type": "stream",
     "text": [
      "Accuracy of KNN classifier on training set: 0.48\n"
     ]
    }
   ],
   "source": [
    "# eval model \n",
    "print('Accuracy of KNN classifier on training set: {:.2f}'\n",
    "     .format(knn.score(X_train, y_train)))"
   ]
  },
  {
   "cell_type": "code",
   "execution_count": 31,
   "id": "7318485a",
   "metadata": {},
   "outputs": [
    {
     "name": "stdout",
     "output_type": "stream",
     "text": [
      "              precision    recall  f1-score   support\n",
      "\n",
      "           C       0.62      0.28      0.38        29\n",
      "        Java       0.23      0.93      0.37        29\n",
      "  JavaScript       0.59      0.45      0.51        42\n",
      " Objective-C       0.59      0.39      0.47        44\n",
      "      Python       0.90      0.25      0.39        36\n",
      "       Swift       0.88      0.58      0.70        60\n",
      "\n",
      "    accuracy                           0.48       240\n",
      "   macro avg       0.63      0.48      0.47       240\n",
      "weighted avg       0.67      0.48      0.50       240\n",
      "\n"
     ]
    }
   ],
   "source": [
    "print(classification_report(y_train, y_pred))"
   ]
  },
  {
   "cell_type": "markdown",
   "id": "2bdf8d58",
   "metadata": {},
   "source": [
    "#### Test"
   ]
  },
  {
   "cell_type": "code",
   "execution_count": 32,
   "id": "31a85ae3",
   "metadata": {},
   "outputs": [
    {
     "name": "stdout",
     "output_type": "stream",
     "text": [
      "Accuracy of KNN classifier on test set: 0.27\n"
     ]
    }
   ],
   "source": [
    "print('Accuracy of KNN classifier on test set: {:.2f}'\n",
    "     .format(knn.score(X_test, y_test)))"
   ]
  },
  {
   "cell_type": "code",
   "execution_count": 33,
   "id": "f8602b91",
   "metadata": {},
   "outputs": [
    {
     "data": {
      "image/png": "[encoded data removed]",
      "text/plain": [
       "<Figure size 432x288 with 1 Axes>"
      ]
     },
     "metadata": {
      "needs_background": "light"
     },
     "output_type": "display_data"
    }
   ],
   "source": [
    "import matplotlib.pyplot as plt\n",
    "k_range = range(1, 20)\n",
    "scores = []\n",
    "for k in k_range:\n",
    "    knn = KNeighborsClassifier(n_neighbors = k)\n",
    "    knn.fit(X_train, y_train)\n",
    "    scores.append(knn.score(X_test, y_test))\n",
    "plt.figure()\n",
    "plt.xlabel('k')\n",
    "plt.ylabel('accuracy')\n",
    "plt.scatter(k_range, scores)\n",
    "plt.xticks([0,5,10,15,20])\n",
    "plt.show()"
   ]
  },
  {
   "cell_type": "code",
   "execution_count": null,
   "id": "3cd17cd8",
   "metadata": {},
   "outputs": [],
   "source": []
  }
 ],
 "metadata": {
  "kernelspec": {
   "display_name": "Python 3 (ipykernel)",
   "language": "python",
   "name": "python3"
  },
  "language_info": {
   "codemirror_mode": {
    "name": "ipython",
    "version": 3
   },
   "file_extension": ".py",
   "mimetype": "text/x-python",
   "name": "python",
   "nbconvert_exporter": "python",
   "pygments_lexer": "ipython3",
   "version": "3.9.7"
  }
 },
 "nbformat": 4,
 "nbformat_minor": 5
}
