{
 "cells": [
  {
   "cell_type": "markdown",
   "id": "0e0f9063",
   "metadata": {},
   "source": [
    "### Prepare"
   ]
  },
  {
   "cell_type": "code",
   "execution_count": 1,
   "id": "a8e29cbb",
   "metadata": {},
   "outputs": [],
   "source": [
    "import pandas as pd\n",
    "import json\n",
    "from pandas import json_normalize\n",
    "\n",
    "import unicodedata\n",
    "import re\n",
    "\n",
    "import nltk\n",
    "from nltk.tokenize.toktok import ToktokTokenizer\n",
    "from nltk.corpus import stopwords"
   ]
  },
  {
   "cell_type": "markdown",
   "id": "f4a3c93e",
   "metadata": {},
   "source": [
    "### Read .json file to DataFrame"
   ]
  },
  {
   "cell_type": "code",
   "execution_count": 2,
   "id": "0f491076",
   "metadata": {
    "scrolled": false
   },
   "outputs": [
    {
     "data": {
      "text/html": [
       "<div>\n",
       "<style scoped>\n",
       "    .dataframe tbody tr th:only-of-type {\n",
       "        vertical-align: middle;\n",
       "    }\n",
       "\n",
       "    .dataframe tbody tr th {\n",
       "        vertical-align: top;\n",
       "    }\n",
       "\n",
       "    .dataframe thead th {\n",
       "        text-align: right;\n",
       "    }\n",
       "</style>\n",
       "<table border=\"1\" class=\"dataframe\">\n",
       "  <thead>\n",
       "    <tr style=\"text-align: right;\">\n",
       "      <th></th>\n",
       "      <th>repo</th>\n",
       "      <th>language</th>\n",
       "      <th>readme_contents</th>\n",
       "    </tr>\n",
       "  </thead>\n",
       "  <tbody>\n",
       "    <tr>\n",
       "      <th>0</th>\n",
       "      <td>acidanthera/AppleALC</td>\n",
       "      <td>C++</td>\n",
       "      <td>AppleALC\\n========\\n\\n[![Build Status](https:/...</td>\n",
       "    </tr>\n",
       "    <tr>\n",
       "      <th>1</th>\n",
       "      <td>gongjianhui/AppleDNS</td>\n",
       "      <td>Python</td>\n",
       "      <td># Final AppleDNS Pro\\n\\nAppleDNS 通过收集 Apple 在中...</td>\n",
       "    </tr>\n",
       "    <tr>\n",
       "      <th>2</th>\n",
       "      <td>tomaz/appledoc</td>\n",
       "      <td>Objective-C</td>\n",
       "      <td>About appledoc\\n==============\\n\\n**IMPORTANT ...</td>\n",
       "    </tr>\n",
       "    <tr>\n",
       "      <th>3</th>\n",
       "      <td>robovm/apple-ios-samples</td>\n",
       "      <td>Objective-C</td>\n",
       "      <td># Mirror of Apple's iOS samples\\n\\nThis reposi...</td>\n",
       "    </tr>\n",
       "    <tr>\n",
       "      <th>4</th>\n",
       "      <td>appleseedhq/appleseed</td>\n",
       "      <td>C++</td>\n",
       "      <td># appleseed [![Build Status](https://travis-ci...</td>\n",
       "    </tr>\n",
       "    <tr>\n",
       "      <th>...</th>\n",
       "      <td>...</td>\n",
       "      <td>...</td>\n",
       "      <td>...</td>\n",
       "    </tr>\n",
       "    <tr>\n",
       "      <th>485</th>\n",
       "      <td>lvsti/CoreMediaIO-DAL-Example</td>\n",
       "      <td>C++</td>\n",
       "      <td># CoreMediaIO-DAL-Example\\n\\nModernized and ex...</td>\n",
       "    </tr>\n",
       "    <tr>\n",
       "      <th>486</th>\n",
       "      <td>xamarin/apple-api-docs</td>\n",
       "      <td>F#</td>\n",
       "      <td># Xamarin Apple API docs\\n\\nThis repository co...</td>\n",
       "    </tr>\n",
       "    <tr>\n",
       "      <th>487</th>\n",
       "      <td>realtnt/AppleID-Verification-AppleScirpt</td>\n",
       "      <td>AppleScript</td>\n",
       "      <td>Apple ID Verification\\n---------------------\\n...</td>\n",
       "    </tr>\n",
       "    <tr>\n",
       "      <th>488</th>\n",
       "      <td>learn-co-students/apples-and-holidays-online-w...</td>\n",
       "      <td>Ruby</td>\n",
       "      <td># Iterating Over Hashes\\n\\n## Objectives\\n\\n1....</td>\n",
       "    </tr>\n",
       "    <tr>\n",
       "      <th>489</th>\n",
       "      <td>seemoo-lab/openhaystack</td>\n",
       "      <td>Swift</td>\n",
       "      <td># PoPETs Artifact Review\\n\\nWe submit the rese...</td>\n",
       "    </tr>\n",
       "  </tbody>\n",
       "</table>\n",
       "<p>490 rows × 3 columns</p>\n",
       "</div>"
      ],
      "text/plain": [
       "                                                  repo     language  \\\n",
       "0                                 acidanthera/AppleALC          C++   \n",
       "1                                 gongjianhui/AppleDNS       Python   \n",
       "2                                       tomaz/appledoc  Objective-C   \n",
       "3                             robovm/apple-ios-samples  Objective-C   \n",
       "4                                appleseedhq/appleseed          C++   \n",
       "..                                                 ...          ...   \n",
       "485                      lvsti/CoreMediaIO-DAL-Example          C++   \n",
       "486                             xamarin/apple-api-docs           F#   \n",
       "487           realtnt/AppleID-Verification-AppleScirpt  AppleScript   \n",
       "488  learn-co-students/apples-and-holidays-online-w...         Ruby   \n",
       "489                            seemoo-lab/openhaystack        Swift   \n",
       "\n",
       "                                       readme_contents  \n",
       "0    AppleALC\\n========\\n\\n[![Build Status](https:/...  \n",
       "1    # Final AppleDNS Pro\\n\\nAppleDNS 通过收集 Apple 在中...  \n",
       "2    About appledoc\\n==============\\n\\n**IMPORTANT ...  \n",
       "3    # Mirror of Apple's iOS samples\\n\\nThis reposi...  \n",
       "4    # appleseed [![Build Status](https://travis-ci...  \n",
       "..                                                 ...  \n",
       "485  # CoreMediaIO-DAL-Example\\n\\nModernized and ex...  \n",
       "486  # Xamarin Apple API docs\\n\\nThis repository co...  \n",
       "487  Apple ID Verification\\n---------------------\\n...  \n",
       "488  # Iterating Over Hashes\\n\\n## Objectives\\n\\n1....  \n",
       "489  # PoPETs Artifact Review\\n\\nWe submit the rese...  \n",
       "\n",
       "[490 rows x 3 columns]"
      ]
     },
     "execution_count": 2,
     "metadata": {},
     "output_type": "execute_result"
    }
   ],
   "source": [
    "df1 = pd.read_json(r'data.json')\n",
    "df1"
   ]
  },
  {
   "cell_type": "markdown",
   "id": "4b1b7313",
   "metadata": {},
   "source": [
    "#### Identify Dtypes"
   ]
  },
  {
   "cell_type": "code",
   "execution_count": 3,
   "id": "bd100192",
   "metadata": {},
   "outputs": [
    {
     "data": {
      "text/plain": [
       "repo               object\n",
       "language           object\n",
       "readme_contents    object\n",
       "dtype: object"
      ]
     },
     "execution_count": 3,
     "metadata": {},
     "output_type": "execute_result"
    }
   ],
   "source": [
    "df1.dtypes"
   ]
  },
  {
   "cell_type": "code",
   "execution_count": 4,
   "id": "3220530a",
   "metadata": {},
   "outputs": [],
   "source": [
    "string = df1.readme_contents"
   ]
  },
  {
   "cell_type": "code",
   "execution_count": 5,
   "id": "ff243bca",
   "metadata": {
    "scrolled": true
   },
   "outputs": [
    {
     "data": {
      "text/plain": [
       "'AppleALC\\n========\\n\\n[![Build Status](https://github.com/acidanthera/AppleALC/workflows/CI/badge.svg?branch=master)](https://github.com/acidanthera/AppleALC/actions) [![Scan Status](https://scan.coverity.com/projects/16166/badge.svg?flat=1)](https://scan.coverity.com/projects/16166)\\n\\nAn open source kernel extension enabling native macOS HD audio for not officially supported codecs without any filesystem modifications. AppleALCU can be used for systems with digital-only audio.\\n\\nEnglish (Current)  \\n[简体中文](https://github.com/acidanthera/AppleALC/blob/master/README_CN.md)  \\n\\n#### Features\\n- Digital and analog audio support starting from the OS installation\\n- Recovery HD/macOS Installer audio support\\n- Automated codec detection\\n- Unsupported audio controller enabling (internal and external)\\n- Arbitrary kext patching\\n- Custom platform/layout injection\\n- Works with SIP / El Capitan+\\n- Currently compatible with 10.4-13\\n\\n#### Credits\\n- [Apple](https://www.apple.com) for macOS  \\n- [Onyx The Black Cat](https://github.com/gdbinit/onyx-the-black-cat) by [fG!](https://reverse.put.as) for the base of the kernel patcher\\n- [capstone](https://github.com/aquynh/capstone) by [Nguyen Anh Quynh](https://github.com/aquynh) for the disassembler module\\n- [toleda](https://github.com/toleda), [Mirone](https://github.com/Mirone) and certain others for audio patches and layouts\\n- [Pike R. Alpha](https://github.com/Piker-Alpha) for [lzvn](https://github.com/Piker-Alpha/LZVN) decompression and certain HDMI patches\\n- [07151129](https://github.com/07151129) for some code parts and suggestions\\n- [roddy20](https://github.com/roddy20) for training and research dumps to a patching of codecs\\n- [vit9696](https://github.com/vit9696) for writing the software and maintaining it\\n- [Andrey1970AppleLife](https://github.com/Andrey1970AppleLife), [vandroiy2013](https://github.com/vandroiy2013) for maintaining the codec database\\n\\n#### Installation\\nThe minimal instruction is available on the [wiki](https://github.com/vit9696/AppleALC/wiki).  \\nThe prebuilt binaries are available on [releases](https://github.com/vit9696/AppleALC/releases) page.\\n\\n#### Contribution\\nTo support more audio codecs in the binary packages you are asked to submit your configurations. Please read the [wiki](https://github.com/vit9696/AppleALC/wiki) for more details. For the contributors with programming skills the headers are filled with AppleDOC comments.\\n\\n#### Support and discussion\\n[InsanelyMac topic](http://www.insanelymac.com/forum/topic/311293-applealc-—-dynamic-applehda-patching/) in English  \\n[AppleLife topic](https://applelife.ru/threads/applealc-dinamicheskij-patching-applehda.1171672/) in Russian\\n\\n#### Donations\\nWriting and supporting code is fun but it takes time. If you want to thank the author for his work consider contributing, bugreporting, or providing the support to other users.\\n'"
      ]
     },
     "execution_count": 5,
     "metadata": {},
     "output_type": "execute_result"
    }
   ],
   "source": [
    "string[0]"
   ]
  },
  {
   "cell_type": "code",
   "execution_count": 6,
   "id": "528d3592",
   "metadata": {},
   "outputs": [],
   "source": [
    "# creating the function\n",
    "def basic_clean(string):\n",
    "    \n",
    "    # lowercase everything\n",
    "    string = string.lower()\n",
    "    \n",
    "    # remove inconsistenceis\n",
    "    # encode into ascii byte strings\n",
    "    # decode back into UTF-8\n",
    "    # (This process will normalize the unicode characters)\n",
    "    \n",
    "    string = unicodedata.normalize('NFKD', string).encode('ascii', 'ignore').decode('UTF-8')\n",
    "    \n",
    "    # replace anything that is not a letter, number, whitespace, etc\n",
    "    # use regex to perform this operation\n",
    "    string = re.sub(r\"[^a-z0-9\\s]\", ' ', string)\n",
    "    \n",
    "    return string"
   ]
  },
  {
   "cell_type": "code",
   "execution_count": 7,
   "id": "0840103d",
   "metadata": {},
   "outputs": [
    {
     "data": {
      "text/plain": [
       "'applealc\\n        \\n\\n   build status  https   github com acidanthera applealc workflows ci badge svg branch master   https   github com acidanthera applealc actions     scan status  https   scan coverity com projects 16166 badge svg flat 1   https   scan coverity com projects 16166 \\n\\nan open source kernel extension enabling native macos hd audio for not officially supported codecs without any filesystem modifications  applealcu can be used for systems with digital only audio \\n\\nenglish  current   \\n   https   github com acidanthera applealc blob master readme cn md   \\n\\n     features\\n  digital and analog audio support starting from the os installation\\n  recovery hd macos installer audio support\\n  automated codec detection\\n  unsupported audio controller enabling  internal and external \\n  arbitrary kext patching\\n  custom platform layout injection\\n  works with sip   el capitan \\n  currently compatible with 10 4 13\\n\\n     credits\\n   apple  https   www apple com  for macos  \\n   onyx the black cat  https   github com gdbinit onyx the black cat  by  fg   https   reverse put as  for the base of the kernel patcher\\n   capstone  https   github com aquynh capstone  by  nguyen anh quynh  https   github com aquynh  for the disassembler module\\n   toleda  https   github com toleda    mirone  https   github com mirone  and certain others for audio patches and layouts\\n   pike r  alpha  https   github com piker alpha  for  lzvn  https   github com piker alpha lzvn  decompression and certain hdmi patches\\n   07151129  https   github com 07151129  for some code parts and suggestions\\n   roddy20  https   github com roddy20  for training and research dumps to a patching of codecs\\n   vit9696  https   github com vit9696  for writing the software and maintaining it\\n   andrey1970applelife  https   github com andrey1970applelife    vandroiy2013  https   github com vandroiy2013  for maintaining the codec database\\n\\n     installation\\nthe minimal instruction is available on the  wiki  https   github com vit9696 applealc wiki    \\nthe prebuilt binaries are available on  releases  https   github com vit9696 applealc releases  page \\n\\n     contribution\\nto support more audio codecs in the binary packages you are asked to submit your configurations  please read the  wiki  https   github com vit9696 applealc wiki  for more details  for the contributors with programming skills the headers are filled with appledoc comments \\n\\n     support and discussion\\n insanelymac topic  http   www insanelymac com forum topic 311293 applealc  dynamic applehda patching   in english  \\n applelife topic  https   applelife ru threads applealc dinamicheskij patching applehda 1171672   in russian\\n\\n     donations\\nwriting and supporting code is fun but it takes time  if you want to thank the author for his work consider contributing  bugreporting  or providing the support to other users \\n'"
      ]
     },
     "execution_count": 7,
     "metadata": {},
     "output_type": "execute_result"
    }
   ],
   "source": [
    "cleaned = basic_clean(string[0])\n",
    "cleaned"
   ]
  },
  {
   "cell_type": "code",
   "execution_count": 8,
   "id": "df48438d",
   "metadata": {},
   "outputs": [],
   "source": [
    "def tokenize(string):\n",
    "    \"\"\"\n",
    "    This function will take in a string, tokenize the string and \n",
    "    return the tokenize string\n",
    "    \"\"\"\n",
    "    \n",
    "    #create the token\n",
    "    token = nltk.tokenize.ToktokTokenizer()\n",
    "    \n",
    "    #Use the token\n",
    "    string = token.tokenize(string,  return_str=True)\n",
    "    \n",
    "    return string\n"
   ]
  },
  {
   "cell_type": "markdown",
   "id": "80c0fad3",
   "metadata": {},
   "source": [
    "#### tokenize strings"
   ]
  },
  {
   "cell_type": "code",
   "execution_count": 9,
   "id": "f3e38c6f",
   "metadata": {
    "scrolled": true
   },
   "outputs": [
    {
     "data": {
      "text/plain": [
       "'applealc\\n \\n\\n build status https github com acidanthera applealc workflows ci badge svg branch master https github com acidanthera applealc actions scan status https scan coverity com projects 16166 badge svg flat 1 https scan coverity com projects 16166 \\n\\nan open source kernel extension enabling native macos hd audio for not officially supported codecs without any filesystem modifications applealcu can be used for systems with digital only audio \\n\\nenglish current \\n https github com acidanthera applealc blob master readme cn md \\n\\n features\\n digital and analog audio support starting from the os installation\\n recovery hd macos installer audio support\\n automated codec detection\\n unsupported audio controller enabling internal and external \\n arbitrary kext patching\\n custom platform layout injection\\n works with sip el capitan \\n currently compatible with 10 4 13\\n\\n credits\\n apple https www apple com for macos \\n onyx the black cat https github com gdbinit onyx the black cat by fg https reverse put as for the base of the kernel patcher\\n capstone https github com aquynh capstone by nguyen anh quynh https github com aquynh for the disassembler module\\n toleda https github com toleda mirone https github com mirone and certain others for audio patches and layouts\\n pike r alpha https github com piker alpha for lzvn https github com piker alpha lzvn decompression and certain hdmi patches\\n 07151129 https github com 07151129 for some code parts and suggestions\\n roddy20 https github com roddy20 for training and research dumps to a patching of codecs\\n vit9696 https github com vit9696 for writing the software and maintaining it\\n andrey1970applelife https github com andrey1970applelife vandroiy2013 https github com vandroiy2013 for maintaining the codec database\\n\\n installation\\nthe minimal instruction is available on the wiki https github com vit9696 applealc wiki \\nthe prebuilt binaries are available on releases https github com vit9696 applealc releases page \\n\\n contribution\\nto support more audio codecs in the binary packages you are asked to submit your configurations please read the wiki https github com vit9696 applealc wiki for more details for the contributors with programming skills the headers are filled with appledoc comments \\n\\n support and discussion\\n insanelymac topic http www insanelymac com forum topic 311293 applealc dynamic applehda patching in english \\n applelife topic https applelife ru threads applealc dinamicheskij patching applehda 1171672 in russian\\n\\n donations\\nwriting and supporting code is fun but it takes time if you want to thank the author for his work consider contributing bugreporting or providing the support to other users'"
      ]
     },
     "execution_count": 9,
     "metadata": {},
     "output_type": "execute_result"
    }
   ],
   "source": [
    "token = tokenize(cleaned)\n",
    "token"
   ]
  },
  {
   "cell_type": "code",
   "execution_count": 10,
   "id": "968ec137",
   "metadata": {},
   "outputs": [
    {
     "name": "stderr",
     "output_type": "stream",
     "text": [
      "[nltk_data] Downloading package wordnet to\n",
      "[nltk_data]     /Users/deangelobowen/nltk_data...\n",
      "[nltk_data]   Package wordnet is already up-to-date!\n"
     ]
    },
    {
     "data": {
      "text/plain": [
       "True"
      ]
     },
     "execution_count": 10,
     "metadata": {},
     "output_type": "execute_result"
    }
   ],
   "source": [
    "# download wornet lemmatized\n",
    "nltk.download('wordnet')"
   ]
  },
  {
   "cell_type": "code",
   "execution_count": 11,
   "id": "22a9e143",
   "metadata": {},
   "outputs": [],
   "source": [
    "def lemmatize(string):\n",
    "    \"\"\"This function takes in a string and returns a lmeeatized \n",
    "    version of the string\"\"\"\n",
    "    \n",
    "    # create the lemmatizer\n",
    "    wnl = nltk.stem.WordNetLemmatizer()\n",
    "    \n",
    "    lemmas = [wnl.lemmatize(word) for word in string.split()]\n",
    "    \n",
    "    string_lemmatize = ' '.join(lemmas)\n",
    "    \n",
    "    return string_lemmatize"
   ]
  },
  {
   "cell_type": "markdown",
   "id": "06ba7ff0",
   "metadata": {},
   "source": [
    "#### lemmatize strings"
   ]
  },
  {
   "cell_type": "code",
   "execution_count": 12,
   "id": "e0a9a608",
   "metadata": {},
   "outputs": [
    {
     "data": {
      "text/plain": [
       "'applealc build status http github com acidanthera applealc workflow ci badge svg branch master http github com acidanthera applealc action scan status http scan coverity com project 16166 badge svg flat 1 http scan coverity com project 16166 an open source kernel extension enabling native macos hd audio for not officially supported codecs without any filesystem modification applealcu can be used for system with digital only audio english current http github com acidanthera applealc blob master readme cn md feature digital and analog audio support starting from the o installation recovery hd macos installer audio support automated codec detection unsupported audio controller enabling internal and external arbitrary kext patching custom platform layout injection work with sip el capitan currently compatible with 10 4 13 credit apple http www apple com for macos onyx the black cat http github com gdbinit onyx the black cat by fg http reverse put a for the base of the kernel patcher capstone http github com aquynh capstone by nguyen anh quynh http github com aquynh for the disassembler module toleda http github com toleda mirone http github com mirone and certain others for audio patch and layout pike r alpha http github com piker alpha for lzvn http github com piker alpha lzvn decompression and certain hdmi patch 07151129 http github com 07151129 for some code part and suggestion roddy20 http github com roddy20 for training and research dump to a patching of codecs vit9696 http github com vit9696 for writing the software and maintaining it andrey1970applelife http github com andrey1970applelife vandroiy2013 http github com vandroiy2013 for maintaining the codec database installation the minimal instruction is available on the wiki http github com vit9696 applealc wiki the prebuilt binary are available on release http github com vit9696 applealc release page contribution to support more audio codecs in the binary package you are asked to submit your configuration please read the wiki http github com vit9696 applealc wiki for more detail for the contributor with programming skill the header are filled with appledoc comment support and discussion insanelymac topic http www insanelymac com forum topic 311293 applealc dynamic applehda patching in english applelife topic http applelife ru thread applealc dinamicheskij patching applehda 1171672 in russian donation writing and supporting code is fun but it take time if you want to thank the author for his work consider contributing bugreporting or providing the support to other user'"
      ]
     },
     "execution_count": 12,
     "metadata": {},
     "output_type": "execute_result"
    }
   ],
   "source": [
    "lemmatized = lemmatize(token)\n",
    "lemmatized"
   ]
  },
  {
   "cell_type": "code",
   "execution_count": 13,
   "id": "b3e56361",
   "metadata": {},
   "outputs": [],
   "source": [
    "def advanced_clean(df):\n",
    "    string = df.readme_contents\n",
    "    \n",
    "    lis = []\n",
    "    i = 0\n",
    "    while i <= 489:\n",
    "        cleaned = basic_clean(string[i])\n",
    "        token = tokenize(cleaned)\n",
    "        lemmatized = lemmatize(token)\n",
    "        lis.append(lemmatized)\n",
    "        i+=1\n",
    "    return lis        "
   ]
  },
  {
   "cell_type": "code",
   "execution_count": 14,
   "id": "1cff0983",
   "metadata": {
    "scrolled": true
   },
   "outputs": [],
   "source": [
    "cleaned_df = advanced_clean(df1)"
   ]
  },
  {
   "cell_type": "code",
   "execution_count": 15,
   "id": "de437a99",
   "metadata": {},
   "outputs": [],
   "source": [
    "df2 = pd.DataFrame(cleaned_df)"
   ]
  },
  {
   "cell_type": "code",
   "execution_count": 16,
   "id": "8203e926",
   "metadata": {},
   "outputs": [
    {
     "data": {
      "text/html": [
       "<div>\n",
       "<style scoped>\n",
       "    .dataframe tbody tr th:only-of-type {\n",
       "        vertical-align: middle;\n",
       "    }\n",
       "\n",
       "    .dataframe tbody tr th {\n",
       "        vertical-align: top;\n",
       "    }\n",
       "\n",
       "    .dataframe thead th {\n",
       "        text-align: right;\n",
       "    }\n",
       "</style>\n",
       "<table border=\"1\" class=\"dataframe\">\n",
       "  <thead>\n",
       "    <tr style=\"text-align: right;\">\n",
       "      <th></th>\n",
       "      <th>0</th>\n",
       "    </tr>\n",
       "  </thead>\n",
       "  <tbody>\n",
       "    <tr>\n",
       "      <th>0</th>\n",
       "      <td>applealc build status http github com acidanth...</td>\n",
       "    </tr>\n",
       "    <tr>\n",
       "      <th>1</th>\n",
       "      <td>final appledns pro appledns apple cdn itunes i...</td>\n",
       "    </tr>\n",
       "    <tr>\n",
       "      <th>2</th>\n",
       "      <td>about appledoc important notice collaborator n...</td>\n",
       "    </tr>\n",
       "    <tr>\n",
       "      <th>3</th>\n",
       "      <td>mirror of apple s io sample this repository mi...</td>\n",
       "    </tr>\n",
       "    <tr>\n",
       "      <th>4</th>\n",
       "      <td>appleseed build status http travis ci org appl...</td>\n",
       "    </tr>\n",
       "    <tr>\n",
       "      <th>...</th>\n",
       "      <td>...</td>\n",
       "    </tr>\n",
       "    <tr>\n",
       "      <th>485</th>\n",
       "      <td>coremediaio dal example modernized and extende...</td>\n",
       "    </tr>\n",
       "    <tr>\n",
       "      <th>486</th>\n",
       "      <td>xamarin apple api doc this repository contains...</td>\n",
       "    </tr>\n",
       "    <tr>\n",
       "      <th>487</th>\n",
       "      <td>apple id verification purpose feature after cr...</td>\n",
       "    </tr>\n",
       "    <tr>\n",
       "      <th>488</th>\n",
       "      <td>iterating over hash objective 1 iterate over n...</td>\n",
       "    </tr>\n",
       "    <tr>\n",
       "      <th>489</th>\n",
       "      <td>popets artifact review we submit the research ...</td>\n",
       "    </tr>\n",
       "  </tbody>\n",
       "</table>\n",
       "<p>490 rows × 1 columns</p>\n",
       "</div>"
      ],
      "text/plain": [
       "                                                     0\n",
       "0    applealc build status http github com acidanth...\n",
       "1    final appledns pro appledns apple cdn itunes i...\n",
       "2    about appledoc important notice collaborator n...\n",
       "3    mirror of apple s io sample this repository mi...\n",
       "4    appleseed build status http travis ci org appl...\n",
       "..                                                 ...\n",
       "485  coremediaio dal example modernized and extende...\n",
       "486  xamarin apple api doc this repository contains...\n",
       "487  apple id verification purpose feature after cr...\n",
       "488  iterating over hash objective 1 iterate over n...\n",
       "489  popets artifact review we submit the research ...\n",
       "\n",
       "[490 rows x 1 columns]"
      ]
     },
     "execution_count": 16,
     "metadata": {},
     "output_type": "execute_result"
    }
   ],
   "source": [
    "df2"
   ]
  },
  {
   "cell_type": "markdown",
   "id": "cdfdbf51",
   "metadata": {},
   "source": [
    "#### join dataframes"
   ]
  },
  {
   "cell_type": "code",
   "execution_count": 17,
   "id": "526af906",
   "metadata": {},
   "outputs": [],
   "source": [
    "df = pd.concat([df1, df2], axis=1, join=\"inner\")"
   ]
  },
  {
   "cell_type": "code",
   "execution_count": 18,
   "id": "cbb93184",
   "metadata": {},
   "outputs": [
    {
     "data": {
      "text/html": [
       "<div>\n",
       "<style scoped>\n",
       "    .dataframe tbody tr th:only-of-type {\n",
       "        vertical-align: middle;\n",
       "    }\n",
       "\n",
       "    .dataframe tbody tr th {\n",
       "        vertical-align: top;\n",
       "    }\n",
       "\n",
       "    .dataframe thead th {\n",
       "        text-align: right;\n",
       "    }\n",
       "</style>\n",
       "<table border=\"1\" class=\"dataframe\">\n",
       "  <thead>\n",
       "    <tr style=\"text-align: right;\">\n",
       "      <th></th>\n",
       "      <th>repo</th>\n",
       "      <th>language</th>\n",
       "      <th>readme_contents</th>\n",
       "      <th>0</th>\n",
       "    </tr>\n",
       "  </thead>\n",
       "  <tbody>\n",
       "    <tr>\n",
       "      <th>0</th>\n",
       "      <td>acidanthera/AppleALC</td>\n",
       "      <td>C++</td>\n",
       "      <td>AppleALC\\n========\\n\\n[![Build Status](https:/...</td>\n",
       "      <td>applealc build status http github com acidanth...</td>\n",
       "    </tr>\n",
       "    <tr>\n",
       "      <th>1</th>\n",
       "      <td>gongjianhui/AppleDNS</td>\n",
       "      <td>Python</td>\n",
       "      <td># Final AppleDNS Pro\\n\\nAppleDNS 通过收集 Apple 在中...</td>\n",
       "      <td>final appledns pro appledns apple cdn itunes i...</td>\n",
       "    </tr>\n",
       "    <tr>\n",
       "      <th>2</th>\n",
       "      <td>tomaz/appledoc</td>\n",
       "      <td>Objective-C</td>\n",
       "      <td>About appledoc\\n==============\\n\\n**IMPORTANT ...</td>\n",
       "      <td>about appledoc important notice collaborator n...</td>\n",
       "    </tr>\n",
       "    <tr>\n",
       "      <th>3</th>\n",
       "      <td>robovm/apple-ios-samples</td>\n",
       "      <td>Objective-C</td>\n",
       "      <td># Mirror of Apple's iOS samples\\n\\nThis reposi...</td>\n",
       "      <td>mirror of apple s io sample this repository mi...</td>\n",
       "    </tr>\n",
       "    <tr>\n",
       "      <th>4</th>\n",
       "      <td>appleseedhq/appleseed</td>\n",
       "      <td>C++</td>\n",
       "      <td># appleseed [![Build Status](https://travis-ci...</td>\n",
       "      <td>appleseed build status http travis ci org appl...</td>\n",
       "    </tr>\n",
       "    <tr>\n",
       "      <th>...</th>\n",
       "      <td>...</td>\n",
       "      <td>...</td>\n",
       "      <td>...</td>\n",
       "      <td>...</td>\n",
       "    </tr>\n",
       "    <tr>\n",
       "      <th>485</th>\n",
       "      <td>lvsti/CoreMediaIO-DAL-Example</td>\n",
       "      <td>C++</td>\n",
       "      <td># CoreMediaIO-DAL-Example\\n\\nModernized and ex...</td>\n",
       "      <td>coremediaio dal example modernized and extende...</td>\n",
       "    </tr>\n",
       "    <tr>\n",
       "      <th>486</th>\n",
       "      <td>xamarin/apple-api-docs</td>\n",
       "      <td>F#</td>\n",
       "      <td># Xamarin Apple API docs\\n\\nThis repository co...</td>\n",
       "      <td>xamarin apple api doc this repository contains...</td>\n",
       "    </tr>\n",
       "    <tr>\n",
       "      <th>487</th>\n",
       "      <td>realtnt/AppleID-Verification-AppleScirpt</td>\n",
       "      <td>AppleScript</td>\n",
       "      <td>Apple ID Verification\\n---------------------\\n...</td>\n",
       "      <td>apple id verification purpose feature after cr...</td>\n",
       "    </tr>\n",
       "    <tr>\n",
       "      <th>488</th>\n",
       "      <td>learn-co-students/apples-and-holidays-online-w...</td>\n",
       "      <td>Ruby</td>\n",
       "      <td># Iterating Over Hashes\\n\\n## Objectives\\n\\n1....</td>\n",
       "      <td>iterating over hash objective 1 iterate over n...</td>\n",
       "    </tr>\n",
       "    <tr>\n",
       "      <th>489</th>\n",
       "      <td>seemoo-lab/openhaystack</td>\n",
       "      <td>Swift</td>\n",
       "      <td># PoPETs Artifact Review\\n\\nWe submit the rese...</td>\n",
       "      <td>popets artifact review we submit the research ...</td>\n",
       "    </tr>\n",
       "  </tbody>\n",
       "</table>\n",
       "<p>490 rows × 4 columns</p>\n",
       "</div>"
      ],
      "text/plain": [
       "                                                  repo     language  \\\n",
       "0                                 acidanthera/AppleALC          C++   \n",
       "1                                 gongjianhui/AppleDNS       Python   \n",
       "2                                       tomaz/appledoc  Objective-C   \n",
       "3                             robovm/apple-ios-samples  Objective-C   \n",
       "4                                appleseedhq/appleseed          C++   \n",
       "..                                                 ...          ...   \n",
       "485                      lvsti/CoreMediaIO-DAL-Example          C++   \n",
       "486                             xamarin/apple-api-docs           F#   \n",
       "487           realtnt/AppleID-Verification-AppleScirpt  AppleScript   \n",
       "488  learn-co-students/apples-and-holidays-online-w...         Ruby   \n",
       "489                            seemoo-lab/openhaystack        Swift   \n",
       "\n",
       "                                       readme_contents  \\\n",
       "0    AppleALC\\n========\\n\\n[![Build Status](https:/...   \n",
       "1    # Final AppleDNS Pro\\n\\nAppleDNS 通过收集 Apple 在中...   \n",
       "2    About appledoc\\n==============\\n\\n**IMPORTANT ...   \n",
       "3    # Mirror of Apple's iOS samples\\n\\nThis reposi...   \n",
       "4    # appleseed [![Build Status](https://travis-ci...   \n",
       "..                                                 ...   \n",
       "485  # CoreMediaIO-DAL-Example\\n\\nModernized and ex...   \n",
       "486  # Xamarin Apple API docs\\n\\nThis repository co...   \n",
       "487  Apple ID Verification\\n---------------------\\n...   \n",
       "488  # Iterating Over Hashes\\n\\n## Objectives\\n\\n1....   \n",
       "489  # PoPETs Artifact Review\\n\\nWe submit the rese...   \n",
       "\n",
       "                                                     0  \n",
       "0    applealc build status http github com acidanth...  \n",
       "1    final appledns pro appledns apple cdn itunes i...  \n",
       "2    about appledoc important notice collaborator n...  \n",
       "3    mirror of apple s io sample this repository mi...  \n",
       "4    appleseed build status http travis ci org appl...  \n",
       "..                                                 ...  \n",
       "485  coremediaio dal example modernized and extende...  \n",
       "486  xamarin apple api doc this repository contains...  \n",
       "487  apple id verification purpose feature after cr...  \n",
       "488  iterating over hash objective 1 iterate over n...  \n",
       "489  popets artifact review we submit the research ...  \n",
       "\n",
       "[490 rows x 4 columns]"
      ]
     },
     "execution_count": 18,
     "metadata": {},
     "output_type": "execute_result"
    }
   ],
   "source": [
    "df"
   ]
  },
  {
   "cell_type": "markdown",
   "id": "21b4b6ea",
   "metadata": {},
   "source": [
    "### create function to recreate dataframe"
   ]
  },
  {
   "cell_type": "code",
   "execution_count": 112,
   "id": "35fc7069",
   "metadata": {},
   "outputs": [],
   "source": [
    "def create_df(df):\n",
    "    cleaned_df = advanced_clean(df)\n",
    "    df1 = pd.DataFrame(cleaned_df)\n",
    "    df2 = pd.concat([df, df1], axis=1, join=\"inner\")\n",
    "    \n",
    "    #drop nulls\n",
    "    df2 = df2.dropna()\n",
    "    \n",
    "    #rename columns\n",
    "    df2 = df2.rename(columns={'readme_contents':'original', 0:'lemmatized'})\n",
    "    \n",
    "    #identify low sample size languages\n",
    "    rows = ['AppleScript', 'TypeScript', 'Go','HTML', 'QML' , 'CSS', 'Dart', 'Vue', 'Starlark', 'Assembly', 'Kotlin',\n",
    "        'Makefile', 'Perl','Zig', 'Eagle' , 'Dockerfile', 'CMake', 'Julia', 'ASL', 'CoffeeScript', 'Erlang',\n",
    "    'Rich Text Format', 'ActionScript', 'VHDL' , 'Verilog', 'Objective-C\\+\\+', 'Matlab', 'R', 'ASP.NET', 'F#']\n",
    "    \n",
    "    # drop low sample sized languages\n",
    "    for row in rows:\n",
    "        df2 = df2[df2[\"language\"].str.contains(row) == False]\n",
    "    \n",
    "    return df2"
   ]
  },
  {
   "cell_type": "code",
   "execution_count": 113,
   "id": "55561644",
   "metadata": {},
   "outputs": [],
   "source": [
    "df = create_df(df1)"
   ]
  },
  {
   "cell_type": "code",
   "execution_count": 114,
   "id": "12d69294",
   "metadata": {
    "scrolled": true
   },
   "outputs": [
    {
     "data": {
      "text/html": [
       "<div>\n",
       "<style scoped>\n",
       "    .dataframe tbody tr th:only-of-type {\n",
       "        vertical-align: middle;\n",
       "    }\n",
       "\n",
       "    .dataframe tbody tr th {\n",
       "        vertical-align: top;\n",
       "    }\n",
       "\n",
       "    .dataframe thead th {\n",
       "        text-align: right;\n",
       "    }\n",
       "</style>\n",
       "<table border=\"1\" class=\"dataframe\">\n",
       "  <thead>\n",
       "    <tr style=\"text-align: right;\">\n",
       "      <th></th>\n",
       "      <th>repo</th>\n",
       "      <th>language</th>\n",
       "      <th>original</th>\n",
       "      <th>lemmatized</th>\n",
       "    </tr>\n",
       "  </thead>\n",
       "  <tbody>\n",
       "    <tr>\n",
       "      <th>0</th>\n",
       "      <td>acidanthera/AppleALC</td>\n",
       "      <td>C++</td>\n",
       "      <td>AppleALC\\n========\\n\\n[![Build Status](https:/...</td>\n",
       "      <td>applealc build status http github com acidanth...</td>\n",
       "    </tr>\n",
       "    <tr>\n",
       "      <th>1</th>\n",
       "      <td>gongjianhui/AppleDNS</td>\n",
       "      <td>Python</td>\n",
       "      <td># Final AppleDNS Pro\\n\\nAppleDNS 通过收集 Apple 在中...</td>\n",
       "      <td>final appledns pro appledns apple cdn itunes i...</td>\n",
       "    </tr>\n",
       "    <tr>\n",
       "      <th>2</th>\n",
       "      <td>tomaz/appledoc</td>\n",
       "      <td>Objective-C</td>\n",
       "      <td>About appledoc\\n==============\\n\\n**IMPORTANT ...</td>\n",
       "      <td>about appledoc important notice collaborator n...</td>\n",
       "    </tr>\n",
       "    <tr>\n",
       "      <th>3</th>\n",
       "      <td>robovm/apple-ios-samples</td>\n",
       "      <td>Objective-C</td>\n",
       "      <td># Mirror of Apple's iOS samples\\n\\nThis reposi...</td>\n",
       "      <td>mirror of apple s io sample this repository mi...</td>\n",
       "    </tr>\n",
       "    <tr>\n",
       "      <th>4</th>\n",
       "      <td>appleseedhq/appleseed</td>\n",
       "      <td>C++</td>\n",
       "      <td># appleseed [![Build Status](https://travis-ci...</td>\n",
       "      <td>appleseed build status http travis ci org appl...</td>\n",
       "    </tr>\n",
       "    <tr>\n",
       "      <th>...</th>\n",
       "      <td>...</td>\n",
       "      <td>...</td>\n",
       "      <td>...</td>\n",
       "      <td>...</td>\n",
       "    </tr>\n",
       "    <tr>\n",
       "      <th>481</th>\n",
       "      <td>PatMurrayDEV/apple-music-history</td>\n",
       "      <td>JavaScript</td>\n",
       "      <td>[![Netlify Status](https://api.netlify.com/api...</td>\n",
       "      <td>netlify status http api netlify com api v1 bad...</td>\n",
       "    </tr>\n",
       "    <tr>\n",
       "      <th>482</th>\n",
       "      <td>antongorodezkiy/codeigniter-apns</td>\n",
       "      <td>PHP</td>\n",
       "      <td>Codeigniter-apns\\n(c) 2012, Anton Gorodezkiy\\n...</td>\n",
       "      <td>codeigniter apns c 2012 anton gorodezkiy codei...</td>\n",
       "    </tr>\n",
       "    <tr>\n",
       "      <th>484</th>\n",
       "      <td>lprhodes/homebridge-apple-tv</td>\n",
       "      <td>JavaScript</td>\n",
       "      <td># Homebridge Apple TV\\n\\n## Introduction\\nWelc...</td>\n",
       "      <td>homebridge apple tv introduction welcome to th...</td>\n",
       "    </tr>\n",
       "    <tr>\n",
       "      <th>485</th>\n",
       "      <td>lvsti/CoreMediaIO-DAL-Example</td>\n",
       "      <td>C++</td>\n",
       "      <td># CoreMediaIO-DAL-Example\\n\\nModernized and ex...</td>\n",
       "      <td>coremediaio dal example modernized and extende...</td>\n",
       "    </tr>\n",
       "    <tr>\n",
       "      <th>489</th>\n",
       "      <td>seemoo-lab/openhaystack</td>\n",
       "      <td>Swift</td>\n",
       "      <td># PoPETs Artifact Review\\n\\nWe submit the rese...</td>\n",
       "      <td>popets artifact review we submit the research ...</td>\n",
       "    </tr>\n",
       "  </tbody>\n",
       "</table>\n",
       "<p>368 rows × 4 columns</p>\n",
       "</div>"
      ],
      "text/plain": [
       "                                 repo     language  \\\n",
       "0                acidanthera/AppleALC          C++   \n",
       "1                gongjianhui/AppleDNS       Python   \n",
       "2                      tomaz/appledoc  Objective-C   \n",
       "3            robovm/apple-ios-samples  Objective-C   \n",
       "4               appleseedhq/appleseed          C++   \n",
       "..                                ...          ...   \n",
       "481  PatMurrayDEV/apple-music-history   JavaScript   \n",
       "482  antongorodezkiy/codeigniter-apns          PHP   \n",
       "484      lprhodes/homebridge-apple-tv   JavaScript   \n",
       "485     lvsti/CoreMediaIO-DAL-Example          C++   \n",
       "489           seemoo-lab/openhaystack        Swift   \n",
       "\n",
       "                                              original  \\\n",
       "0    AppleALC\\n========\\n\\n[![Build Status](https:/...   \n",
       "1    # Final AppleDNS Pro\\n\\nAppleDNS 通过收集 Apple 在中...   \n",
       "2    About appledoc\\n==============\\n\\n**IMPORTANT ...   \n",
       "3    # Mirror of Apple's iOS samples\\n\\nThis reposi...   \n",
       "4    # appleseed [![Build Status](https://travis-ci...   \n",
       "..                                                 ...   \n",
       "481  [![Netlify Status](https://api.netlify.com/api...   \n",
       "482  Codeigniter-apns\\n(c) 2012, Anton Gorodezkiy\\n...   \n",
       "484  # Homebridge Apple TV\\n\\n## Introduction\\nWelc...   \n",
       "485  # CoreMediaIO-DAL-Example\\n\\nModernized and ex...   \n",
       "489  # PoPETs Artifact Review\\n\\nWe submit the rese...   \n",
       "\n",
       "                                            lemmatized  \n",
       "0    applealc build status http github com acidanth...  \n",
       "1    final appledns pro appledns apple cdn itunes i...  \n",
       "2    about appledoc important notice collaborator n...  \n",
       "3    mirror of apple s io sample this repository mi...  \n",
       "4    appleseed build status http travis ci org appl...  \n",
       "..                                                 ...  \n",
       "481  netlify status http api netlify com api v1 bad...  \n",
       "482  codeigniter apns c 2012 anton gorodezkiy codei...  \n",
       "484  homebridge apple tv introduction welcome to th...  \n",
       "485  coremediaio dal example modernized and extende...  \n",
       "489  popets artifact review we submit the research ...  \n",
       "\n",
       "[368 rows x 4 columns]"
      ]
     },
     "execution_count": 114,
     "metadata": {},
     "output_type": "execute_result"
    }
   ],
   "source": [
    "df"
   ]
  },
  {
   "cell_type": "code",
   "execution_count": 115,
   "id": "b9e2a330",
   "metadata": {
    "scrolled": false
   },
   "outputs": [
    {
     "name": "stdout",
     "output_type": "stream",
     "text": [
      "<class 'pandas.core.frame.DataFrame'>\n",
      "Int64Index: 368 entries, 0 to 489\n",
      "Data columns (total 4 columns):\n",
      " #   Column      Non-Null Count  Dtype \n",
      "---  ------      --------------  ----- \n",
      " 0   repo        368 non-null    object\n",
      " 1   language    368 non-null    object\n",
      " 2   original    368 non-null    object\n",
      " 3   lemmatized  368 non-null    object\n",
      "dtypes: object(4)\n",
      "memory usage: 14.4+ KB\n"
     ]
    }
   ],
   "source": [
    "df.info()"
   ]
  },
  {
   "cell_type": "markdown",
   "id": "8c7c7b76",
   "metadata": {},
   "source": [
    "### To prepare this dataframe:"
   ]
  },
  {
   "cell_type": "markdown",
   "id": "30f80634",
   "metadata": {},
   "source": [
    "#### Started with 490 values\n",
    "- dropped null-identified languages\n",
    "- Removed small sample sized languages identified such as, AppleScript, TypeScript, GO, HTML, CSS, etc.\n",
    "- lemmatized the readme samples"
   ]
  },
  {
   "cell_type": "markdown",
   "id": "07b3d4b6",
   "metadata": {},
   "source": [
    "##### insert into prepare.py file for recreation"
   ]
  }
 ],
 "metadata": {
  "kernelspec": {
   "display_name": "Python 3 (ipykernel)",
   "language": "python",
   "name": "python3"
  },
  "language_info": {
   "codemirror_mode": {
    "name": "ipython",
    "version": 3
   },
   "file_extension": ".py",
   "mimetype": "text/x-python",
   "name": "python",
   "nbconvert_exporter": "python",
   "pygments_lexer": "ipython3",
   "version": "3.9.7"
  }
 },
 "nbformat": 4,
 "nbformat_minor": 5
}
