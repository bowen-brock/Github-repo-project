{
 "cells": [
  {
   "cell_type": "code",
   "execution_count": 1,
   "id": "804b114c",
   "metadata": {},
   "outputs": [],
   "source": [
    "import requests \n",
    "from bs4 import BeautifulSoup\n",
    "import pandas as pd\n",
    "import math\n",
    "\n",
    "from requests import get\n",
    "#from tqdm.notebook import tqdm (if using Jupyter notebook)"
   ]
  },
  {
   "cell_type": "markdown",
   "id": "ddee812d",
   "metadata": {},
   "source": [
    "https://github.com/search?p=2&q=apple&type=Repositories"
   ]
  },
  {
   "cell_type": "markdown",
   "id": "237a6ce2",
   "metadata": {},
   "source": [
    "https://github.com/search?p=50&q=apple&type=Repositories"
   ]
  },
  {
   "cell_type": "markdown",
   "id": "26691aea",
   "metadata": {},
   "source": [
    "url = 'https://github.com/search?p=2&q=apple&type=Repositories'\n",
    "headers = {'user-agent': 'bowen-brock'}\n",
    "response = get(url, headers=headers)\n",
    "soup = BeautifulSoup(response.content, 'html.parser')"
   ]
  },
  {
   "cell_type": "markdown",
   "id": "0e09c742",
   "metadata": {},
   "source": [
    "link_text= \"\"\n",
    "lists = []\n",
    "for soup in soup.find_all('a',{'class': \"Link--muted\"}, href=True):\n",
    "    link_text = soup['href']\n",
    "    lists.append(link_text)\n",
    "    print(link_text)"
   ]
  },
  {
   "cell_type": "markdown",
   "id": "8c0e2e5a",
   "metadata": {},
   "source": [
    "len(lists)"
   ]
  },
  {
   "cell_type": "markdown",
   "id": "b9bd82d6",
   "metadata": {},
   "source": [
    "i = 1\n",
    "urls = []\n",
    "while i <= 50:\n",
    "    test = ('https://github.com/search?p={}&q=apple&type=Repositories'.format(i))\n",
    "    urls.append(test)\n",
    "    print(test)\n",
    "    i+=1"
   ]
  },
  {
   "cell_type": "code",
   "execution_count": 2,
   "id": "adb43a76",
   "metadata": {},
   "outputs": [],
   "source": [
    "def get_blog_urls():\n",
    "    headers = {'user-agent': 'bowen-brock'}\n",
    "    response = get(url, headers=headers)\n",
    "    soup = BeautifulSoup(response.content, 'html.parser')\n",
    "    urls = [a.attrs['href'] for a in soup.select('a.Link--muted')]\n",
    "    return urls"
   ]
  },
  {
   "cell_type": "code",
   "execution_count": 5,
   "id": "fcd1dca6",
   "metadata": {},
   "outputs": [],
   "source": [
    "import os\n",
    "import json\n",
    "from typing import Dict, List, Optional, Union, cast\n",
    "from requests import get\n",
    "from bs4 import BeautifulSoup\n",
    "import time\n",
    "from env import github_token, github_username\n",
    "\n",
    "def get_repos(n):\n",
    "    all_repos = []\n",
    "    for page in range(1, n):\n",
    "        url = f'https://github.com/search?p={page}&q=apple&type=Repositories'\n",
    "        headers = {\"Authorization\": f\"token {github_token}\", \"User-Agent\": github_username}\n",
    "        while True:\n",
    "            response = get(url, headers=headers)\n",
    "            if response.ok:\n",
    "                break\n",
    "            else:\n",
    "                time.sleep(15)\n",
    "        soup = BeautifulSoup(response.text, 'html.parser')\n",
    "        repo = [a.text for a in soup.find_all('a', class_='v-align-middle')]\n",
    "        all_repos.append(repo)\n",
    "        print(f'\\rFetching page {page} of {n-1} {url}', end='')\n",
    "    return all_repos"
   ]
  },
  {
   "cell_type": "code",
   "execution_count": 6,
   "id": "b28f6809",
   "metadata": {},
   "outputs": [
    {
     "name": "stdout",
     "output_type": "stream",
     "text": [
      "Fetching page 49 of 49 https://github.com/search?p=49&q=apple&type=Repositories"
     ]
    }
   ],
   "source": [
    "test = get_repos(50)"
   ]
  },
  {
   "cell_type": "code",
   "execution_count": null,
   "id": "9af26c78",
   "metadata": {},
   "outputs": [],
   "source": []
  }
 ],
 "metadata": {
  "kernelspec": {
   "display_name": "Python 3 (ipykernel)",
   "language": "python",
   "name": "python3"
  },
  "language_info": {
   "codemirror_mode": {
    "name": "ipython",
    "version": 3
   },
   "file_extension": ".py",
   "mimetype": "text/x-python",
   "name": "python",
   "nbconvert_exporter": "python",
   "pygments_lexer": "ipython3",
   "version": "3.9.7"
  }
 },
 "nbformat": 4,
 "nbformat_minor": 5
}
